{
 "cells": [
  {
   "cell_type": "markdown",
   "id": "98734196",
   "metadata": {},
   "source": [
    "# Car Game\n"
   ]
  },
  {
   "cell_type": "markdown",
   "id": "55ef7ae4",
   "metadata": {},
   "source": [
    "Building a car to start , stop , and quit "
   ]
  },
  {
   "cell_type": "markdown",
   "id": "2eb27edb",
   "metadata": {},
   "source": [
    "we use help command to get all the instructions"
   ]
  },
  {
   "cell_type": "markdown",
   "id": "4cdad03f",
   "metadata": {},
   "source": [
    "COMMANDS:"
   ]
  },
  {
   "cell_type": "markdown",
   "id": "61b6cc49",
   "metadata": {},
   "source": [
    "Start --- to start the car\n",
    "\n",
    "\n",
    "\n",
    "\n",
    "Stop --- to stop the car\n",
    "\n",
    "\n",
    "\n",
    "quit --- to exit"
   ]
  },
  {
   "cell_type": "code",
   "execution_count": 8,
   "id": "0d1ecc7b",
   "metadata": {},
   "outputs": [
    {
     "name": "stdout",
     "output_type": "stream",
     "text": [
      ">  on\n"
     ]
    },
    {
     "ename": "TypeError",
     "evalue": "'str' object is not callable",
     "output_type": "error",
     "traceback": [
      "\u001b[1;31m---------------------------------------------------------------------------\u001b[0m",
      "\u001b[1;31mTypeError\u001b[0m                                 Traceback (most recent call last)",
      "\u001b[1;32m~\\AppData\\Local\\Temp/ipykernel_1000/2543099727.py\u001b[0m in \u001b[0;36m<module>\u001b[1;34m\u001b[0m\n\u001b[0;32m      3\u001b[0m \u001b[1;32mwhile\u001b[0m \u001b[0mcomman\u001b[0m \u001b[1;33m!=\u001b[0m \u001b[1;34m\"quit\"\u001b[0m\u001b[1;33m:\u001b[0m\u001b[1;33m\u001b[0m\u001b[1;33m\u001b[0m\u001b[0m\n\u001b[0;32m      4\u001b[0m     \u001b[0mcomman\u001b[0m \u001b[1;33m=\u001b[0m \u001b[0minput\u001b[0m\u001b[1;33m(\u001b[0m\u001b[1;34m\">  \"\u001b[0m\u001b[1;33m)\u001b[0m\u001b[1;33m.\u001b[0m\u001b[0mlower\u001b[0m\u001b[1;33m(\u001b[0m\u001b[1;33m)\u001b[0m\u001b[1;33m\u001b[0m\u001b[1;33m\u001b[0m\u001b[0m\n\u001b[1;32m----> 5\u001b[1;33m     \u001b[1;32mif\u001b[0m \u001b[0mcomman\u001b[0m\u001b[1;33m(\u001b[0m\u001b[1;33m)\u001b[0m \u001b[1;33m==\u001b[0m \u001b[1;34m\"on\"\u001b[0m\u001b[1;33m:\u001b[0m\u001b[1;33m\u001b[0m\u001b[1;33m\u001b[0m\u001b[0m\n\u001b[0m\u001b[0;32m      6\u001b[0m         \u001b[0mprint\u001b[0m\u001b[1;33m(\u001b[0m\u001b[1;34m\"Car started...\"\u001b[0m\u001b[1;33m)\u001b[0m\u001b[1;33m\u001b[0m\u001b[1;33m\u001b[0m\u001b[0m\n\u001b[0;32m      7\u001b[0m     \u001b[1;32melif\u001b[0m \u001b[0mcomman\u001b[0m\u001b[1;33m(\u001b[0m\u001b[1;33m)\u001b[0m \u001b[1;33m==\u001b[0m \u001b[1;34m\"stop\"\u001b[0m\u001b[1;33m:\u001b[0m\u001b[1;33m\u001b[0m\u001b[1;33m\u001b[0m\u001b[0m\n",
      "\u001b[1;31mTypeError\u001b[0m: 'str' object is not callable"
     ]
    }
   ],
   "source": [
    "comman = \"\"\n",
    "\n",
    "while comman != \"quit\": \n",
    "    comman = input(\">  \").lower()\n",
    "    if comman() == \"on\":\n",
    "        print(\"Car started...\")\n",
    "    elif comman() == \"stop\":\n",
    "        print(\"Car stopped.\")\n",
    "    elif comman() == \"help\":\n",
    "        print(\"\"\"\n",
    "        Start1 --- to start the car\n",
    "        Stop --- to stop the car\n",
    "        quit --- to exit\n",
    "        \"\"\")\n",
    "    else:\n",
    "        print(\"Sorry! I dont understand that\")\n",
    "    "
   ]
  },
  {
   "cell_type": "code",
   "execution_count": null,
   "id": "f84f2a39",
   "metadata": {},
   "outputs": [],
   "source": []
  }
 ],
 "metadata": {
  "kernelspec": {
   "display_name": "Python 3 (ipykernel)",
   "language": "python",
   "name": "python3"
  },
  "language_info": {
   "codemirror_mode": {
    "name": "ipython",
    "version": 3
   },
   "file_extension": ".py",
   "mimetype": "text/x-python",
   "name": "python",
   "nbconvert_exporter": "python",
   "pygments_lexer": "ipython3",
   "version": "3.10.7"
  }
 },
 "nbformat": 4,
 "nbformat_minor": 5
}
