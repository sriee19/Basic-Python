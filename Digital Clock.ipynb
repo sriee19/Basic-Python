{
 "cells": [
  {
   "cell_type": "markdown",
   "id": "72dc731f",
   "metadata": {},
   "source": [
    "Digital Clock Using Python"
   ]
  },
  {
   "cell_type": "code",
   "execution_count": null,
   "id": "37fa95e2",
   "metadata": {},
   "outputs": [],
   "source": [
    "from tkinter import *"
   ]
  },
  {
   "cell_type": "code",
   "execution_count": 2,
   "id": "314d9b53",
   "metadata": {},
   "outputs": [],
   "source": [
    "import time"
   ]
  },
  {
   "cell_type": "code",
   "execution_count": 5,
   "id": "1998460e",
   "metadata": {},
   "outputs": [],
   "source": [
    "def digital():\n",
    "   d=time.strftime(\"%H:%M:%S\")\n",
    "   clock.config(text=d)\n",
    "   clock.after(200,digital)\n",
    "root = Tk()\n",
    "root.title(\"Digital Clock\")\n",
    "clock=Label(root,font=(\"times\",100,\"bold\"),bg=\"red\")\n",
    "clock.grid(row=2,column=1)\n",
    "digital()\n",
    "root.mainloop()"
   ]
  },
  {
   "cell_type": "code",
   "execution_count": 6,
   "id": "2809a4a5",
   "metadata": {},
   "outputs": [],
   "source": [
    "#The digital clock is been defined!"
   ]
  },
  {
   "cell_type": "markdown",
   "id": "81a64a24",
   "metadata": {},
   "source": []
  },
  {
   "cell_type": "code",
   "execution_count": null,
   "id": "24c46955",
   "metadata": {},
   "outputs": [],
   "source": []
  }
 ],
 "metadata": {
  "kernelspec": {
   "display_name": "Python 3 (ipykernel)",
   "language": "python",
   "name": "python3"
  },
  "language_info": {
   "codemirror_mode": {
    "name": "ipython",
    "version": 3
   },
   "file_extension": ".py",
   "mimetype": "text/x-python",
   "name": "python",
   "nbconvert_exporter": "python",
   "pygments_lexer": "ipython3",
   "version": "3.10.7"
  }
 },
 "nbformat": 4,
 "nbformat_minor": 5
}
