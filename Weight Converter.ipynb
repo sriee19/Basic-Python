{
 "cells": [
  {
   "cell_type": "markdown",
   "id": "fb9ed6e5",
   "metadata": {},
   "source": [
    "# Project :::   Weight Converter"
   ]
  },
  {
   "cell_type": "markdown",
   "id": "d0384129",
   "metadata": {},
   "source": [
    "To convert someone's weight from pounds to kilograms"
   ]
  },
  {
   "cell_type": "code",
   "execution_count": 3,
   "id": "ae3ff456",
   "metadata": {},
   "outputs": [
    {
     "name": "stdout",
     "output_type": "stream",
     "text": [
      "Weight:  160\n",
      "(L)bs or (K)g:  l\n",
      "You are 72.0 kilos\n"
     ]
    }
   ],
   "source": [
    "weight= int(input('Weight:  '))\n",
    "unit = input('(L)bs or (K)g:  ')\n",
    "if unit.upper() == \"L\":\n",
    "    covt = weight * 0.45\n",
    "    print(f\"You are {covt} kilos\")\n",
    "else:\n",
    "    covt = weight / 0.45\n",
    "    print(f\"You are  {covt} pounds\")"
   ]
  },
  {
   "cell_type": "code",
   "execution_count": 5,
   "id": "1a9966dc",
   "metadata": {},
   "outputs": [
    {
     "name": "stdout",
     "output_type": "stream",
     "text": [
      "Weight:  52\n",
      "(L)bs or (K)g:  k\n",
      "You are  115.55555555555556 pounds\n"
     ]
    }
   ],
   "source": [
    "weight= int(input('Weight:  '))\n",
    "unit = input('(L)bs or (K)g:  ')\n",
    "if unit.upper() == \"L\":\n",
    "    covt = weight * 0.45\n",
    "    print(f\"You are {covt} kilos\")\n",
    "else:\n",
    "    covt = weight / 0.45\n",
    "    print(f\"You are  {covt} pounds\")"
   ]
  },
  {
   "cell_type": "code",
   "execution_count": null,
   "id": "303e402a",
   "metadata": {},
   "outputs": [],
   "source": []
  }
 ],
 "metadata": {
  "kernelspec": {
   "display_name": "Python 3 (ipykernel)",
   "language": "python",
   "name": "python3"
  },
  "language_info": {
   "codemirror_mode": {
    "name": "ipython",
    "version": 3
   },
   "file_extension": ".py",
   "mimetype": "text/x-python",
   "name": "python",
   "nbconvert_exporter": "python",
   "pygments_lexer": "ipython3",
   "version": "3.10.7"
  }
 },
 "nbformat": 4,
 "nbformat_minor": 5
}
